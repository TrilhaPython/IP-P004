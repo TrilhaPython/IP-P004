{
 "cells": [
  {
   "cell_type": "markdown",
   "metadata": {},
   "source": [
    "# Instrução Prática - Instrução Prática 04"
   ]
  },
  {
   "cell_type": "code",
   "execution_count": null,
   "metadata": {},
   "outputs": [],
   "source": []
  },
  {
   "cell_type": "markdown",
   "metadata": {},
   "source": [
    "## Exercício 1: Revisando as implementações propostas.\n",
    "Vamos evoluir a classe ListaNotas, que foi implementada anteriormente. O objetivo agora\n",
    "e armazenar, na forma de uma tabela ou matriz de dados, As notas de uma turma numa\n",
    "disciplina. Veja as especificações da nova classe na célula a seguir."
   ]
  },
  {
   "cell_type": "code",
   "execution_count": null,
   "metadata": {},
   "outputs": [],
   "source": [
    "class NotasTurma:\n",
    "    def __init__(self, nAlunos=30, nCreditos=3):\n",
    "        self._nAlunos = nAlunos\n",
    "        self._nCreditos = nCreditos\n",
    "        self._notas = [[0] * nCreditos for _ in range(nAlunos)]\n",
    "\n",
    "    def leNotas(self):\n",
    "        for i in range(self._nAlunos):\n",
    "            for j in range(self._nCreditos):\n",
    "                nota = float(input(f\"Informe a nota do aluno {i + 1} na avaliação {j + 1}: \"))\n",
    "                self._notas[i][j] = nota\n",
    "\n",
    "    def mediaTurma(self):\n",
    "        total = sum(sum(avaliacao) for avaliacao in self._notas)\n",
    "        return total / (self._nAlunos * self._nCreditos)\n",
    "\n",
    "    def mediaAluno(self, index=0):\n",
    "        return sum(self._notas[index]) / self._nCreditos\n",
    "\n",
    "    def mediaAvaliacao(self, index=0):\n",
    "        return sum(avaliacao[index] for avaliacao in self._notas) / self._nAlunos\n",
    "\n",
    "    def quantAprovados(self):\n",
    "        return sum(1 for media_aluno in map(lambda i: self.mediaAluno(i), range(self._nAlunos)) if media_aluno >= 6)\n",
    "\n",
    "    def quantReprovados(self):\n",
    "        return sum(1 for media_aluno in map(lambda i: self.mediaAluno(i), range(self._nAlunos)) if media_aluno < 6)\n",
    "\n",
    "    def menorNota(self):\n",
    "        notas_flat = [nota for avaliacao in self._notas for nota in avaliacao]\n",
    "        return min(notas_flat)\n",
    "\n",
    "    def maiorNota(self):\n",
    "        notas_flat = [nota for avaliacao in self._notas for nota in avaliacao]\n",
    "        return max(notas_flat)\n",
    "\n",
    "    def __str__(self):\n",
    "        return f\"Notas da turma:\\n{self._notas}\"\n",
    "\n",
    "\n",
    "turma = NotasTurma()\n",
    "turma.leNotas()\n",
    "print(\"Média da turma:\", turma.mediaTurma())\n",
    "print(\"Média do Aluno:\", turma.mediaAluno())\n",
    "print(\"Média da avaliação:\", turma.mediaAvaliacao())\n",
    "print(\"Quantidade de alunos aprovados:\", turma.quantAprovados())\n",
    "print(\"Quantidade de alunos reprovados:\", turma.quantReprovados())\n",
    "print(\"Menor nota da turma:\", turma.menorNota())\n",
    "print(\"Maior nota da turma: \", turma.maiorNota())\n",
    "print(turma) \n"
   ]
  }
 ],
 "metadata": {
  "kernelspec": {
   "display_name": "Python 3 (ipykernel)",
   "language": "python",
   "name": "python3"
  },
  "language_info": {
   "codemirror_mode": {
    "name": "ipython",
    "version": 3
   },
   "file_extension": ".py",
   "mimetype": "text/x-python",
   "name": "python",
   "nbconvert_exporter": "python",
   "pygments_lexer": "ipython3",
   "version": "3.11.5"
  }
 },
 "nbformat": 4,
 "nbformat_minor": 2
}
